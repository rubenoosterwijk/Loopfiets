{
 "cells": [
  {
   "cell_type": "code",
   "execution_count": 3,
   "outputs": [],
   "source": [
    "img= cv2.imread(\"buoy1.jpg)\n",
    "labimg = cv2.cvtColor(img, cv2.COLOR_BGR2LAB)\n",
    "\n",
    "n = 0\n",
    "while(n<4):\n",
    "    labimg = cv2.pyrDown(labimg)\n",
    "    n = n+1\n",
    "\n",
    "feature_image=np.reshape(labimg, [-1, 3])\n",
    "rows, cols, chs = labimg.shape\n",
    "\n",
    "db = DBSCAN(eps=5, min_samples=50, metric = 'euclidean',algorithm ='auto')\n",
    "db.fit(feature_image)\n",
    "labels = db.labels_\n",
    "\n",
    "plt.figure(2)\n",
    "plt.subplot(2, 1, 1)\n",
    "plt.imshow(img)\n",
    "plt.axis('off')\n",
    "plt.subplot(2, 1, 2)\n",
    "plt.imshow(np.reshape(labels, [rows, cols]))\n",
    "plt.axis('off')\n",
    "plt.show()\n",
    "\n",
    "\n",
    "\n",
    "\n"
   ],
   "metadata": {
    "collapsed": false,
    "pycharm": {
     "name": "#%%\n"
    }
   }
  }
 ],
 "metadata": {
  "kernelspec": {
   "display_name": "Python 3",
   "language": "python",
   "name": "python3"
  },
  "language_info": {
   "codemirror_mode": {
    "name": "ipython",
    "version": 2
   },
   "file_extension": ".py",
   "mimetype": "text/x-python",
   "name": "python",
   "nbconvert_exporter": "python",
   "pygments_lexer": "ipython2",
   "version": "2.7.6"
  },
  "pycharm": {
   "stem_cell": {
    "cell_type": "raw",
    "source": [
     "\n",
     "import numpy as np\n",
     "from sklearn.cluster import DBSCAN\n",
     "from sklearn import metrics\n",
     "from sklearn.datasets import make_blobs\n",
     "from sklearn.preprocessing import StandardScaler\n",
     "import cv2\n"
    ],
    "metadata": {
     "collapsed": false
    }
   }
  }
 },
 "nbformat": 4,
 "nbformat_minor": 0
}